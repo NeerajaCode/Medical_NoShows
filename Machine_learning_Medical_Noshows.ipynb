{
 "cells": [
  {
   "cell_type": "markdown",
   "metadata": {},
   "source": [
    "# Importing Data"
   ]
  },
  {
   "cell_type": "code",
   "execution_count": 180,
   "metadata": {},
   "outputs": [],
   "source": [
    "import pandas as pd\n",
    "import numpy as np\n",
    "data = pd.read_csv(\"Medical_Appointment.csv\")"
   ]
  },
  {
   "cell_type": "code",
   "execution_count": 181,
   "metadata": {},
   "outputs": [
    {
     "data": {
      "text/plain": [
       "(110527, 14)"
      ]
     },
     "execution_count": 181,
     "metadata": {},
     "output_type": "execute_result"
    }
   ],
   "source": [
    "data.shape"
   ]
  },
  {
   "cell_type": "code",
   "execution_count": 182,
   "metadata": {},
   "outputs": [
    {
     "data": {
      "text/plain": [
       "Index(['PatientId', 'AppointmentID', 'Gender', 'ScheduledDay',\n",
       "       'AppointmentDay', 'Age', 'Neighbourhood', 'Scholarship', 'Hipertension',\n",
       "       'Diabetes', 'Alcoholism', 'Handcap', 'SMS_received', 'No-show'],\n",
       "      dtype='object')"
      ]
     },
     "execution_count": 182,
     "metadata": {},
     "output_type": "execute_result"
    }
   ],
   "source": [
    "data.columns"
   ]
  },
  {
   "cell_type": "code",
   "execution_count": 183,
   "metadata": {},
   "outputs": [
    {
     "name": "stdout",
     "output_type": "stream",
     "text": [
      "No     88208\n",
      "Yes    22319\n",
      "Name: No-show, dtype: int64\n",
      "Percentage of No-Show: 20.193255946510806\n"
     ]
    }
   ],
   "source": [
    "no_show = data[\"No-show\"].value_counts()\n",
    "print(no_show)\n",
    "\n",
    "no_show_percent = no_show[\"Yes\"]/ no_show.sum() * 100\n",
    "print(\"Percentage of No-Show:\",no_show_percent )"
   ]
  },
  {
   "cell_type": "markdown",
   "metadata": {},
   "source": [
    "# Recode Target Variable"
   ]
  },
  {
   "cell_type": "code",
   "execution_count": 184,
   "metadata": {},
   "outputs": [],
   "source": [
    "data['No-show'] = pd.get_dummies(data['No-show'])\n",
    "\n",
    "data['No-show'] = pd.get_dummies(data['No-show']) ### repeating because I want Yes to be '1'"
   ]
  },
  {
   "cell_type": "markdown",
   "metadata": {},
   "source": [
    "# Exploratory Analysis"
   ]
  },
  {
   "cell_type": "code",
   "execution_count": 185,
   "metadata": {},
   "outputs": [
    {
     "data": {
      "text/plain": [
       "F    71840\n",
       "M    38687\n",
       "Name: Gender, dtype: int64"
      ]
     },
     "execution_count": 185,
     "metadata": {},
     "output_type": "execute_result"
    }
   ],
   "source": [
    "data[\"Gender\"].value_counts()"
   ]
  },
  {
   "cell_type": "code",
   "execution_count": 186,
   "metadata": {},
   "outputs": [
    {
     "name": "stdout",
     "output_type": "stream",
     "text": [
      "Gender\n",
      "F    0.203146\n",
      "M    0.199679\n",
      "Name: No-show, dtype: float64\n",
      "Hipertension\n",
      "0    0.209037\n",
      "1    0.173020\n",
      "Name: No-show, dtype: float64\n",
      "Alcoholism\n",
      "0    0.201946\n",
      "1    0.201488\n",
      "Name: No-show, dtype: float64\n",
      "Diabetes\n",
      "0    0.203628\n",
      "1    0.180033\n",
      "Name: No-show, dtype: float64\n"
     ]
    }
   ],
   "source": [
    "Analysis = ['Gender','Hipertension','Alcoholism','Diabetes']\n",
    "for r in Analysis :\n",
    "    print(data.groupby(r)['No-show'].mean())"
   ]
  },
  {
   "cell_type": "code",
   "execution_count": 187,
   "metadata": {
    "scrolled": true
   },
   "outputs": [
    {
     "name": "stdout",
     "output_type": "stream",
     "text": [
      "      PatientId  AppointmentID Gender          ScheduledDay  \\\n",
      "0  2.987250e+13        5642903      F  2016-04-29T18:38:08Z   \n",
      "1  5.589978e+14        5642503      M  2016-04-29T16:08:27Z   \n",
      "2  4.262962e+12        5642549      F  2016-04-29T16:19:04Z   \n",
      "3  8.679512e+11        5642828      F  2016-04-29T17:29:31Z   \n",
      "4  8.841186e+12        5642494      F  2016-04-29T16:07:23Z   \n",
      "\n",
      "         AppointmentDay  Age      Neighbourhood  Scholarship  Hipertension  \\\n",
      "0  2016-04-29T00:00:00Z   62    JARDIM DA PENHA            0             1   \n",
      "1  2016-04-29T00:00:00Z   56    JARDIM DA PENHA            0             0   \n",
      "2  2016-04-29T00:00:00Z   62      MATA DA PRAIA            0             0   \n",
      "3  2016-04-29T00:00:00Z    8  PONTAL DE CAMBURI            0             0   \n",
      "4  2016-04-29T00:00:00Z   56    JARDIM DA PENHA            0             1   \n",
      "\n",
      "   Diabetes  Alcoholism Handcap  SMS_received  No-show  Handicap_0  \\\n",
      "0         0           0       0             0        0           1   \n",
      "1         0           0       0             0        0           1   \n",
      "2         0           0       0             0        0           1   \n",
      "3         0           0       0             0        0           1   \n",
      "4         1           0       0             0        0           1   \n",
      "\n",
      "   Handicap_1  Handicap_2  Handicap_3  Handicap_4  \n",
      "0           0           0           0           0  \n",
      "1           0           0           0           0  \n",
      "2           0           0           0           0  \n",
      "3           0           0           0           0  \n",
      "4           0           0           0           0  \n"
     ]
    }
   ],
   "source": [
    "data['Handcap'] = pd.Categorical(data['Handcap'])\n",
    "#Convert to Dummy Variables\n",
    "Handicap = pd.get_dummies(data['Handcap'], prefix = 'Handicap')\n",
    "data = pd.concat([data, Handicap], axis=1)\n",
    "print(data.head())"
   ]
  },
  {
   "cell_type": "code",
   "execution_count": 188,
   "metadata": {},
   "outputs": [
    {
     "name": "stdout",
     "output_type": "stream",
     "text": [
      "Handicap_1\n",
      "0    0.202360\n",
      "1    0.179236\n",
      "Name: No-show, dtype: float64\n",
      "Handicap_2\n",
      "0    0.201932\n",
      "1    0.202186\n",
      "Name: No-show, dtype: float64\n",
      "Handicap_3\n",
      "0    0.201929\n",
      "1    0.230769\n",
      "Name: No-show, dtype: float64\n",
      "Handicap_4\n",
      "0    0.201929\n",
      "1    0.333333\n",
      "Name: No-show, dtype: float64\n"
     ]
    }
   ],
   "source": [
    "handicaps = [\"Handicap_1\", \"Handicap_2\", \"Handicap_3\", \"Handicap_4\"]\n",
    "for h in handicaps:\n",
    "    print(data.groupby(h)['No-show'].mean())\n",
    "    "
   ]
  },
  {
   "cell_type": "code",
   "execution_count": 189,
   "metadata": {},
   "outputs": [
    {
     "data": {
      "text/plain": [
       "SMS_received\n",
       "0    0.167033\n",
       "1    0.275745\n",
       "Name: No-show, dtype: float64"
      ]
     },
     "execution_count": 189,
     "metadata": {},
     "output_type": "execute_result"
    }
   ],
   "source": [
    "data.groupby('SMS_received')['No-show'].mean()"
   ]
  },
  {
   "cell_type": "code",
   "execution_count": 190,
   "metadata": {},
   "outputs": [
    {
     "name": "stdout",
     "output_type": "stream",
     "text": [
      "PatientId :\n",
      "[3.922e+04 4.374e+04 9.378e+04 ... 9.999e+14 1.000e+15 1.000e+15]\n",
      "AppointmentID :\n",
      "[5030230 5122866 5134197 ... 5790466 5790481 5790484]\n",
      "Gender :\n",
      "['F' 'M']\n",
      "ScheduledDay :\n",
      "['2015-11-10T07:13:56Z' '2015-12-03T08:17:28Z' '2015-12-07T10:40:59Z' ...\n",
      " '2016-06-08T19:33:23Z' '2016-06-08T19:58:52Z' '2016-06-08T20:07:23Z']\n",
      "AppointmentDay :\n",
      "['2016-04-29T00:00:00Z' '2016-05-02T00:00:00Z' '2016-05-03T00:00:00Z'\n",
      " '2016-05-04T00:00:00Z' '2016-05-05T00:00:00Z' '2016-05-06T00:00:00Z'\n",
      " '2016-05-09T00:00:00Z' '2016-05-10T00:00:00Z' '2016-05-11T00:00:00Z'\n",
      " '2016-05-12T00:00:00Z' '2016-05-13T00:00:00Z' '2016-05-14T00:00:00Z'\n",
      " '2016-05-16T00:00:00Z' '2016-05-17T00:00:00Z' '2016-05-18T00:00:00Z'\n",
      " '2016-05-19T00:00:00Z' '2016-05-20T00:00:00Z' '2016-05-24T00:00:00Z'\n",
      " '2016-05-25T00:00:00Z' '2016-05-30T00:00:00Z' '2016-05-31T00:00:00Z'\n",
      " '2016-06-01T00:00:00Z' '2016-06-02T00:00:00Z' '2016-06-03T00:00:00Z'\n",
      " '2016-06-06T00:00:00Z' '2016-06-07T00:00:00Z' '2016-06-08T00:00:00Z']\n",
      "Age :\n",
      "[ -1   0   1   2   3   4   5   6   7   8   9  10  11  12  13  14  15  16\n",
      "  17  18  19  20  21  22  23  24  25  26  27  28  29  30  31  32  33  34\n",
      "  35  36  37  38  39  40  41  42  43  44  45  46  47  48  49  50  51  52\n",
      "  53  54  55  56  57  58  59  60  61  62  63  64  65  66  67  68  69  70\n",
      "  71  72  73  74  75  76  77  78  79  80  81  82  83  84  85  86  87  88\n",
      "  89  90  91  92  93  94  95  96  97  98  99 100 102 115]\n",
      "Neighbourhood :\n",
      "['AEROPORTO' 'ANDORINHAS' 'ANTÔNIO HONÓRIO' 'ARIOVALDO FAVALESSA'\n",
      " 'BARRO VERMELHO' 'BELA VISTA' 'BENTO FERREIRA' 'BOA VISTA' 'BONFIM'\n",
      " 'CARATOÍRA' 'CENTRO' 'COMDUSA' 'CONQUISTA' 'CONSOLAÇÃO' 'CRUZAMENTO'\n",
      " 'DA PENHA' 'DE LOURDES' 'DO CABRAL' 'DO MOSCOSO' 'DO QUADRO'\n",
      " 'ENSEADA DO SUÁ' 'ESTRELINHA' 'FONTE GRANDE' 'FORTE SÃO JOÃO' 'FRADINHOS'\n",
      " 'GOIABEIRAS' 'GRANDE VITÓRIA' 'GURIGICA' 'HORTO' 'ILHA DAS CAIEIRAS'\n",
      " 'ILHA DE SANTA MARIA' 'ILHA DO BOI' 'ILHA DO FRADE' 'ILHA DO PRÍNCIPE'\n",
      " 'ILHAS OCEÂNICAS DE TRINDADE' 'INHANGUETÁ' 'ITARARÉ' 'JABOUR'\n",
      " 'JARDIM CAMBURI' 'JARDIM DA PENHA' 'JESUS DE NAZARETH' 'JOANA D´ARC'\n",
      " 'JUCUTUQUARA' 'MARIA ORTIZ' 'MARUÍPE' 'MATA DA PRAIA' 'MONTE BELO'\n",
      " 'MORADA DE CAMBURI' 'MÁRIO CYPRESTE' 'NAZARETH' 'NOVA PALESTINA'\n",
      " 'PARQUE INDUSTRIAL' 'PARQUE MOSCOSO' 'PIEDADE' 'PONTAL DE CAMBURI'\n",
      " 'PRAIA DO CANTO' 'PRAIA DO SUÁ' 'REDENÇÃO' 'REPÚBLICA' 'RESISTÊNCIA'\n",
      " 'ROMÃO' 'SANTA CECÍLIA' 'SANTA CLARA' 'SANTA HELENA' 'SANTA LUÍZA'\n",
      " 'SANTA LÚCIA' 'SANTA MARTHA' 'SANTA TEREZA' 'SANTO ANDRÉ' 'SANTO ANTÔNIO'\n",
      " 'SANTOS DUMONT' 'SANTOS REIS' 'SEGURANÇA DO LAR' 'SOLON BORGES'\n",
      " 'SÃO BENEDITO' 'SÃO CRISTÓVÃO' 'SÃO JOSÉ' 'SÃO PEDRO' 'TABUAZEIRO'\n",
      " 'UNIVERSITÁRIO' 'VILA RUBIM']\n",
      "Scholarship :\n",
      "[0 1]\n",
      "Hipertension :\n",
      "[0 1]\n",
      "Diabetes :\n",
      "[0 1]\n",
      "Alcoholism :\n",
      "[0 1]\n",
      "Handcap :\n",
      "[0 1 2 3 4]\n",
      "SMS_received :\n",
      "[0 1]\n",
      "No-show :\n",
      "[0 1]\n",
      "Handicap_0 :\n",
      "[0 1]\n",
      "Handicap_1 :\n",
      "[0 1]\n",
      "Handicap_2 :\n",
      "[0 1]\n",
      "Handicap_3 :\n",
      "[0 1]\n",
      "Handicap_4 :\n",
      "[0 1]\n"
     ]
    }
   ],
   "source": [
    "\n",
    "for i in data.columns:\n",
    "    print(i, \":\\n{}\".format(np.sort(data[i].unique())))"
   ]
  },
  {
   "cell_type": "code",
   "execution_count": 191,
   "metadata": {},
   "outputs": [],
   "source": [
    "data = data[(data['Age'] >= 0) & (data['Age'] <= 100)]\n"
   ]
  },
  {
   "cell_type": "code",
   "execution_count": 192,
   "metadata": {
    "scrolled": true
   },
   "outputs": [
    {
     "name": "stdout",
     "output_type": "stream",
     "text": [
      "                 0          1\n",
      "0       2016-04-29  18:38:08Z\n",
      "1       2016-04-29  16:08:27Z\n",
      "2       2016-04-29  16:19:04Z\n",
      "3       2016-04-29  17:29:31Z\n",
      "4       2016-04-29  16:07:23Z\n",
      "...            ...        ...\n",
      "110522  2016-05-03  09:15:35Z\n",
      "110523  2016-05-03  07:27:33Z\n",
      "110524  2016-04-27  16:03:52Z\n",
      "110525  2016-04-27  15:09:23Z\n",
      "110526  2016-04-27  13:30:56Z\n",
      "\n",
      "[110519 rows x 2 columns]\n"
     ]
    },
    {
     "data": {
      "text/plain": [
       "0          0\n",
       "1          0\n",
       "2          0\n",
       "3          0\n",
       "4          0\n",
       "          ..\n",
       "110522    35\n",
       "110523    35\n",
       "110524    41\n",
       "110525    41\n",
       "110526    41\n",
       "Name: day_difference, Length: 110519, dtype: int32"
      ]
     },
     "execution_count": 192,
     "metadata": {},
     "output_type": "execute_result"
    }
   ],
   "source": [
    "# Converts the two variables to datetime variables\n",
    "\n",
    "print(data['ScheduledDay'].str.split(pat='T', expand = True))\n",
    "\n",
    "data['ScheduledDay_Day'] = data['ScheduledDay'].str.split(pat='T', expand = True)[0]\n",
    "data['AppointmentDay_Day'] = data['AppointmentDay'].str.split(pat='T', expand = True)[0]\n",
    "\n",
    "data['ScheduledDay_Day'] = pd.to_datetime(data['ScheduledDay_Day'], infer_datetime_format=True)\n",
    "data['AppointmentDay_Day'] = pd.to_datetime(data['AppointmentDay_Day'], infer_datetime_format=True)\n",
    "\n",
    "data['day_difference'] = data['AppointmentDay_Day'] - data['ScheduledDay_Day']\n",
    "\n",
    "data['day_difference'] = data['day_difference'].apply(lambda x: x.days) ### extract only the days \n",
    "data['day_difference'].astype(int)\n"
   ]
  },
  {
   "cell_type": "code",
   "execution_count": 193,
   "metadata": {
    "scrolled": true
   },
   "outputs": [
    {
     "data": {
      "text/html": [
       "<div>\n",
       "<style scoped>\n",
       "    .dataframe tbody tr th:only-of-type {\n",
       "        vertical-align: middle;\n",
       "    }\n",
       "\n",
       "    .dataframe tbody tr th {\n",
       "        vertical-align: top;\n",
       "    }\n",
       "\n",
       "    .dataframe thead th {\n",
       "        text-align: right;\n",
       "    }\n",
       "</style>\n",
       "<table border=\"1\" class=\"dataframe\">\n",
       "  <thead>\n",
       "    <tr style=\"text-align: right;\">\n",
       "      <th></th>\n",
       "      <th>PatientId</th>\n",
       "      <th>AppointmentID</th>\n",
       "      <th>Gender</th>\n",
       "      <th>ScheduledDay</th>\n",
       "      <th>AppointmentDay</th>\n",
       "      <th>Age</th>\n",
       "      <th>Neighbourhood</th>\n",
       "      <th>Scholarship</th>\n",
       "      <th>Hipertension</th>\n",
       "      <th>Diabetes</th>\n",
       "      <th>...</th>\n",
       "      <th>SMS_received</th>\n",
       "      <th>No-show</th>\n",
       "      <th>Handicap_0</th>\n",
       "      <th>Handicap_1</th>\n",
       "      <th>Handicap_2</th>\n",
       "      <th>Handicap_3</th>\n",
       "      <th>Handicap_4</th>\n",
       "      <th>ScheduledDay_Day</th>\n",
       "      <th>AppointmentDay_Day</th>\n",
       "      <th>day_difference</th>\n",
       "    </tr>\n",
       "  </thead>\n",
       "  <tbody>\n",
       "    <tr>\n",
       "      <th>27033</th>\n",
       "      <td>7.839273e+12</td>\n",
       "      <td>5679978</td>\n",
       "      <td>M</td>\n",
       "      <td>2016-05-10T10:51:53Z</td>\n",
       "      <td>2016-05-09T00:00:00Z</td>\n",
       "      <td>38</td>\n",
       "      <td>RESISTÊNCIA</td>\n",
       "      <td>0</td>\n",
       "      <td>0</td>\n",
       "      <td>0</td>\n",
       "      <td>...</td>\n",
       "      <td>0</td>\n",
       "      <td>1</td>\n",
       "      <td>0</td>\n",
       "      <td>1</td>\n",
       "      <td>0</td>\n",
       "      <td>0</td>\n",
       "      <td>0</td>\n",
       "      <td>2016-05-10</td>\n",
       "      <td>2016-05-09</td>\n",
       "      <td>-1</td>\n",
       "    </tr>\n",
       "    <tr>\n",
       "      <th>55226</th>\n",
       "      <td>7.896294e+12</td>\n",
       "      <td>5715660</td>\n",
       "      <td>F</td>\n",
       "      <td>2016-05-18T14:50:41Z</td>\n",
       "      <td>2016-05-17T00:00:00Z</td>\n",
       "      <td>19</td>\n",
       "      <td>SANTO ANTÔNIO</td>\n",
       "      <td>0</td>\n",
       "      <td>0</td>\n",
       "      <td>0</td>\n",
       "      <td>...</td>\n",
       "      <td>0</td>\n",
       "      <td>1</td>\n",
       "      <td>0</td>\n",
       "      <td>1</td>\n",
       "      <td>0</td>\n",
       "      <td>0</td>\n",
       "      <td>0</td>\n",
       "      <td>2016-05-18</td>\n",
       "      <td>2016-05-17</td>\n",
       "      <td>-1</td>\n",
       "    </tr>\n",
       "    <tr>\n",
       "      <th>64175</th>\n",
       "      <td>2.425226e+13</td>\n",
       "      <td>5664962</td>\n",
       "      <td>F</td>\n",
       "      <td>2016-05-05T13:43:58Z</td>\n",
       "      <td>2016-05-04T00:00:00Z</td>\n",
       "      <td>22</td>\n",
       "      <td>CONSOLAÇÃO</td>\n",
       "      <td>0</td>\n",
       "      <td>0</td>\n",
       "      <td>0</td>\n",
       "      <td>...</td>\n",
       "      <td>0</td>\n",
       "      <td>1</td>\n",
       "      <td>1</td>\n",
       "      <td>0</td>\n",
       "      <td>0</td>\n",
       "      <td>0</td>\n",
       "      <td>0</td>\n",
       "      <td>2016-05-05</td>\n",
       "      <td>2016-05-04</td>\n",
       "      <td>-1</td>\n",
       "    </tr>\n",
       "    <tr>\n",
       "      <th>71533</th>\n",
       "      <td>9.982316e+14</td>\n",
       "      <td>5686628</td>\n",
       "      <td>F</td>\n",
       "      <td>2016-05-11T13:49:20Z</td>\n",
       "      <td>2016-05-05T00:00:00Z</td>\n",
       "      <td>81</td>\n",
       "      <td>SANTO ANTÔNIO</td>\n",
       "      <td>0</td>\n",
       "      <td>0</td>\n",
       "      <td>0</td>\n",
       "      <td>...</td>\n",
       "      <td>0</td>\n",
       "      <td>1</td>\n",
       "      <td>1</td>\n",
       "      <td>0</td>\n",
       "      <td>0</td>\n",
       "      <td>0</td>\n",
       "      <td>0</td>\n",
       "      <td>2016-05-11</td>\n",
       "      <td>2016-05-05</td>\n",
       "      <td>-6</td>\n",
       "    </tr>\n",
       "    <tr>\n",
       "      <th>72362</th>\n",
       "      <td>3.787482e+12</td>\n",
       "      <td>5655637</td>\n",
       "      <td>M</td>\n",
       "      <td>2016-05-04T06:50:57Z</td>\n",
       "      <td>2016-05-03T00:00:00Z</td>\n",
       "      <td>7</td>\n",
       "      <td>TABUAZEIRO</td>\n",
       "      <td>0</td>\n",
       "      <td>0</td>\n",
       "      <td>0</td>\n",
       "      <td>...</td>\n",
       "      <td>0</td>\n",
       "      <td>1</td>\n",
       "      <td>1</td>\n",
       "      <td>0</td>\n",
       "      <td>0</td>\n",
       "      <td>0</td>\n",
       "      <td>0</td>\n",
       "      <td>2016-05-04</td>\n",
       "      <td>2016-05-03</td>\n",
       "      <td>-1</td>\n",
       "    </tr>\n",
       "  </tbody>\n",
       "</table>\n",
       "<p>5 rows × 22 columns</p>\n",
       "</div>"
      ],
      "text/plain": [
       "          PatientId  AppointmentID Gender          ScheduledDay  \\\n",
       "27033  7.839273e+12        5679978      M  2016-05-10T10:51:53Z   \n",
       "55226  7.896294e+12        5715660      F  2016-05-18T14:50:41Z   \n",
       "64175  2.425226e+13        5664962      F  2016-05-05T13:43:58Z   \n",
       "71533  9.982316e+14        5686628      F  2016-05-11T13:49:20Z   \n",
       "72362  3.787482e+12        5655637      M  2016-05-04T06:50:57Z   \n",
       "\n",
       "             AppointmentDay  Age  Neighbourhood  Scholarship  Hipertension  \\\n",
       "27033  2016-05-09T00:00:00Z   38    RESISTÊNCIA            0             0   \n",
       "55226  2016-05-17T00:00:00Z   19  SANTO ANTÔNIO            0             0   \n",
       "64175  2016-05-04T00:00:00Z   22     CONSOLAÇÃO            0             0   \n",
       "71533  2016-05-05T00:00:00Z   81  SANTO ANTÔNIO            0             0   \n",
       "72362  2016-05-03T00:00:00Z    7     TABUAZEIRO            0             0   \n",
       "\n",
       "       Diabetes  ...  SMS_received No-show  Handicap_0  Handicap_1  \\\n",
       "27033         0  ...             0       1           0           1   \n",
       "55226         0  ...             0       1           0           1   \n",
       "64175         0  ...             0       1           1           0   \n",
       "71533         0  ...             0       1           1           0   \n",
       "72362         0  ...             0       1           1           0   \n",
       "\n",
       "       Handicap_2  Handicap_3  Handicap_4  ScheduledDay_Day  \\\n",
       "27033           0           0           0        2016-05-10   \n",
       "55226           0           0           0        2016-05-18   \n",
       "64175           0           0           0        2016-05-05   \n",
       "71533           0           0           0        2016-05-11   \n",
       "72362           0           0           0        2016-05-04   \n",
       "\n",
       "       AppointmentDay_Day day_difference  \n",
       "27033          2016-05-09             -1  \n",
       "55226          2016-05-17             -1  \n",
       "64175          2016-05-04             -1  \n",
       "71533          2016-05-05             -6  \n",
       "72362          2016-05-03             -1  \n",
       "\n",
       "[5 rows x 22 columns]"
      ]
     },
     "execution_count": 193,
     "metadata": {},
     "output_type": "execute_result"
    }
   ],
   "source": [
    "data[data['day_difference'] < 0]"
   ]
  },
  {
   "cell_type": "code",
   "execution_count": 194,
   "metadata": {},
   "outputs": [],
   "source": [
    "# data.loc[data['day_difference'] < 0] = np.nan\n",
    "\n",
    "data = data[data['day_difference'] > 0]"
   ]
  },
  {
   "cell_type": "code",
   "execution_count": 195,
   "metadata": {},
   "outputs": [],
   "source": [
    "data['Total_No_show'] = data.groupby('PatientId')['No-show'].apply(lambda x: x.cumsum())"
   ]
  },
  {
   "cell_type": "code",
   "execution_count": 196,
   "metadata": {},
   "outputs": [],
   "source": [
    "data.drop([\"PatientId\",'AppointmentID','ScheduledDay','ScheduledDay_Day', 'Handcap','AppointmentDay','AppointmentDay_Day', 'Neighbourhood'], axis=1, inplace = True)"
   ]
  },
  {
   "cell_type": "code",
   "execution_count": 197,
   "metadata": {},
   "outputs": [],
   "source": [
    "X = data[['Gender', 'Diabetes','Hipertension', 'Scholarship', 'SMS_received','Handicap_0','Handicap_1','Handicap_2','Handicap_3','Handicap_4', 'Total_No_show', 'Age', 'day_difference']]\n",
    "\n",
    "y = data[\"No-show\"]\n"
   ]
  },
  {
   "cell_type": "code",
   "execution_count": 198,
   "metadata": {},
   "outputs": [],
   "source": [
    "X_dummies = pd.get_dummies(X)"
   ]
  },
  {
   "cell_type": "code",
   "execution_count": 199,
   "metadata": {},
   "outputs": [
    {
     "name": "stdout",
     "output_type": "stream",
     "text": [
      "(71954, 14)\n"
     ]
    }
   ],
   "source": [
    "from sklearn.preprocessing import StandardScaler\n",
    "scaler = StandardScaler().fit(X_dummies)\n",
    "rescaled = scaler.transform(X_dummies)\n",
    "# summarize transformed data\n",
    "np.set_printoptions(precision=3)\n",
    "print(rescaled.shape)\n"
   ]
  },
  {
   "cell_type": "code",
   "execution_count": 200,
   "metadata": {},
   "outputs": [],
   "source": [
    "from sklearn import metrics\n",
    "from sklearn.linear_model import LogisticRegression\n",
    "from sklearn.model_selection import train_test_split\n",
    "from sklearn.metrics import confusion_matrix\n",
    "\n",
    "# Create Training and Test Dataset with 75% Training and 25% Test\n",
    "X_train, X_test, y_train, y_test = train_test_split(rescaled, y, test_size=0.25)\n",
    "\n",
    "# # Run Logistic Regression\n",
    "# logreg = LogisticRegression()\n",
    "# logreg.fit(X_train, y_train)\n",
    "# y_pred = logreg.predict(X_test)\n",
    "\n",
    "# # Analyze results\n",
    "# print(\"Results:\")\n",
    "# print(\"Accuracy\", metrics.accuracy_score(y_test,y_pred))\n",
    "\n",
    "# # save confusion matrix and slice into four pieces\n",
    "# confusion = metrics.confusion_matrix(y_test, y_pred)\n",
    "# TP = confusion[1, 1]\n",
    "# TN = confusion[0, 0]\n",
    "# FP = confusion[0, 1]\n",
    "# FN = confusion[1, 0]\n",
    "\n",
    "# #Specificity: When the actual value is negative, how often is the prediction correct?\n",
    "# print(\"Specificity:\",TN / float(TN + FP))\n",
    "\n",
    "# #False Positive Rate: When the actual value is negative, how often is the prediction incorrect?\n",
    "# print(\"False Positive Rate:\",FP / float(TN + FP))\n",
    "\n",
    "# #Precision: When a positive value is predicted, how often is the prediction correct?\n",
    "# print(\"Precision:\",metrics.precision_score(y_test, y_pred))\n",
    "\n",
    "# #Sensitivity:\n",
    "# print(\"Recall:\",metrics.recall_score(y_test, y_pred))\n",
    "# print(\"F1 Score: \", metrics.f1_score(y_test, y_pred))\n",
    "# print(confusion_matrix(y_test, y_pred))\n"
   ]
  },
  {
   "cell_type": "code",
   "execution_count": 201,
   "metadata": {},
   "outputs": [],
   "source": [
    "def generate_model_report(y_actual, y_predicted):\n",
    "    print(\"Accuracy = \" , accuracy_score(y_actual, y_predicted))\n",
    "    print(\"Precision = \" ,precision_score(y_actual, y_predicted))\n",
    "    print(\"Recall = \" ,recall_score(y_actual, y_predicted))\n",
    "    print(\"F1 Score = \" ,f1_score(y_actual, y_predicted))\n",
    "    pass"
   ]
  },
  {
   "cell_type": "code",
   "execution_count": 202,
   "metadata": {},
   "outputs": [],
   "source": [
    "def generate_auc_roc_curve(clf, X_test):\n",
    "    y_pred_proba = clf.predict_proba(X_test)[:, 1]\n",
    "    fpr, tpr, thresholds = roc_curve(Y_test,  y_pred_proba)\n",
    "    auc = roc_auc_score(Y_test, y_pred_proba)\n",
    "    plt.plot(fpr,tpr,label=\"AUC ROC Curve with Area Under the curve =\"+str(auc))\n",
    "    plt.legend(loc=4)\n",
    "    plt.show()\n",
    "    pass"
   ]
  },
  {
   "cell_type": "code",
   "execution_count": 203,
   "metadata": {},
   "outputs": [],
   "source": [
    "def get_stats(model, Xtrain, Xtest, ytrain, ytest):\n",
    "    model.fit(Xtrain, ytrain)\n",
    "    y_pred = model.predict(Xtest)\n",
    "    Accuracy = accuracy_score(ytest, y_pred)\n",
    "    Precision = precision_score(ytest, y_pred)\n",
    "    Recall = recall_score(ytest, y_pred)\n",
    "    F1_Score = f1_score(ytest, y_pred)\n",
    "    \n",
    "    matrix = confusion_matrix(ytest, y_pred)\n",
    "    TP = matrix[1, 1]\n",
    "    TN = matrix[0, 0]\n",
    "    FP = matrix[0, 1]\n",
    "    FN = matrix[1, 0]    \n",
    "    folds = StratifiedKFold(n_splits=10)\n",
    "    scores1 = cross_val_score(model, Xtrain, ytrain,cv=folds)\n",
    "    print(scores1.mean(), scores1.std() * 2)\n",
    "\n",
    "    print(\"Accuracy:\",Accuracy)\n",
    "                \n",
    "    #Specificity: When the actual value is negative, how often is the prediction correct?\n",
    "    print(\"Specificity:\",TN / float(TN + FP))\n",
    "\n",
    "    #False Positive Rate: When the actual value is negative, how often is the prediction incorrect?\n",
    "    print(\"False Positive Rate:\",FP / float(TN + FP))\n",
    "\n",
    "    #Precision: When a positive value is predicted, how often is the prediction correct?\n",
    "    print(\"Precision:\",Precision)\n",
    "\n",
    "    #Sensitivity:\n",
    "    print(\"Recall:\",Recall)\n",
    "    print(\"F1 Score: \", F1_Score)\n",
    "    print(\"confusion matrix\", matrix)\n",
    "\n",
    "    \n",
    "#     return Accuracy, Precision, Recall, F1_Score, matrix"
   ]
  },
  {
   "cell_type": "code",
   "execution_count": 204,
   "metadata": {
    "collapsed": true
   },
   "outputs": [
    {
     "name": "stdout",
     "output_type": "stream",
     "text": [
      "0.9083110410706439 0.007686871482340396\n",
      "Accuracy: 0.9057757518483518\n",
      "Specificity: 0.8810167658193618\n",
      "False Positive Rate: 0.11898323418063818\n",
      "Precision: 0.7605349090343648\n",
      "Recall: 0.9692826000792707\n",
      "F1 Score:  0.8523133222967675\n",
      "confusion matrix [[11403  1540]\n",
      " [  155  4891]]\n"
     ]
    }
   ],
   "source": [
    "from sklearn.metrics import precision_score, accuracy_score, recall_score, precision_recall_curve, f1_score, roc_auc_score\n",
    "from sklearn.model_selection import StratifiedKFold\n",
    "from sklearn.model_selection import cross_val_score\n",
    "\n",
    "get_stats(LogisticRegression(solver='liblinear',multi_class='ovr'), X_train, X_test, y_train, y_test)\n"
   ]
  },
  {
   "cell_type": "code",
   "execution_count": 205,
   "metadata": {
    "collapsed": true
   },
   "outputs": [
    {
     "name": "stdout",
     "output_type": "stream",
     "text": [
      "0.8731216055978164 0.007271279574659814\n",
      "Accuracy: 0.8742564900772695\n",
      "Specificity: 0.9170207834350614\n",
      "False Positive Rate: 0.08297921656493858\n",
      "Precision: 0.7822384428223844\n",
      "Recall: 0.7645659928656362\n",
      "F1 Score:  0.7733012627781118\n",
      "confusion matrix [[11869  1074]\n",
      " [ 1188  3858]]\n"
     ]
    }
   ],
   "source": [
    "from sklearn.ensemble import RandomForestClassifier\n",
    "from sklearn.tree import DecisionTreeClassifier\n",
    "from sklearn.ensemble import GradientBoostingClassifier\n",
    "\n",
    "get_stats(DecisionTreeClassifier(), X_train, X_test, y_train, y_test)"
   ]
  },
  {
   "cell_type": "code",
   "execution_count": 206,
   "metadata": {
    "collapsed": true
   },
   "outputs": [
    {
     "name": "stdout",
     "output_type": "stream",
     "text": [
      "0.8931345428018999 0.005390409516143446\n",
      "Accuracy: 0.8912668853188059\n",
      "Specificity: 0.9057405547400139\n",
      "False Positive Rate: 0.0942594452599861\n",
      "Precision: 0.779385171790235\n",
      "Recall: 0.8541418945699564\n",
      "F1 Score:  0.8150529500756429\n",
      "confusion matrix [[11723  1220]\n",
      " [  736  4310]]\n"
     ]
    }
   ],
   "source": [
    "get_stats(RandomForestClassifier(n_estimators=40), X_train, X_test, y_train, y_test)\n"
   ]
  },
  {
   "cell_type": "code",
   "execution_count": 207,
   "metadata": {
    "collapsed": true
   },
   "outputs": [
    {
     "name": "stdout",
     "output_type": "stream",
     "text": [
      "0.9128139201788656 0.005305449645611865\n",
      "Accuracy: 0.9103340930568681\n",
      "Specificity: 0.8754539133122151\n",
      "False Positive Rate: 0.1245460866877849\n",
      "Precision: 0.7578488808772721\n",
      "Recall: 0.9998018232263178\n",
      "F1 Score:  0.8621720926258224\n",
      "confusion matrix [[11331  1612]\n",
      " [    1  5045]]\n"
     ]
    }
   ],
   "source": [
    "from sklearn.ensemble import GradientBoostingClassifier\n",
    "get_stats(GradientBoostingClassifier(), X_train, X_test, y_train, y_test)"
   ]
  },
  {
   "cell_type": "markdown",
   "metadata": {},
   "source": [
    "# UnderSampling"
   ]
  },
  {
   "cell_type": "code",
   "execution_count": 278,
   "metadata": {
    "collapsed": true
   },
   "outputs": [
    {
     "name": "stdout",
     "output_type": "stream",
     "text": [
      "(41038, 14)\n"
     ]
    }
   ],
   "source": [
    "from imblearn.under_sampling import RandomUnderSampler\n",
    "undersample = RandomUnderSampler()\n",
    "# fit and apply the transform\n",
    "x_under, y_under = undersample.fit_resample(rescaled, y)\n",
    "\n",
    "x_train, x_test, Y_train, Y_test = train_test_split(x_under, y_under,test_size=0.33, random_state=42)\n",
    "print(x_under.shape)"
   ]
  },
  {
   "cell_type": "code",
   "execution_count": 268,
   "metadata": {
    "collapsed": true
   },
   "outputs": [
    {
     "name": "stdout",
     "output_type": "stream",
     "text": [
      "0.9396251860180561 0.008618458294235763\n",
      "Accuracy: 0.936793915675995\n",
      "Specificity: 0.8728649933165008\n",
      "False Positive Rate: 0.1271350066834992\n",
      "Precision: 0.8883381163579441\n",
      "Recall: 1.0\n",
      "F1 Score:  0.9408676429953025\n",
      "confusion matrix [[5877  856]\n",
      " [   0 6810]]\n",
      "Logestic Execution Time 1.6702945232391357\n"
     ]
    }
   ],
   "source": [
    "import time\n",
    "initial = time.time()\n",
    "get_stats(LogisticRegression(solver='liblinear',multi_class='ovr'), x_train, x_test, Y_train, Y_test)\n",
    "final = time.time() - initial\n",
    "print(\"Logestic Execution Time\",final)"
   ]
  },
  {
   "cell_type": "code",
   "execution_count": 269,
   "metadata": {
    "collapsed": true
   },
   "outputs": [
    {
     "name": "stdout",
     "output_type": "stream",
     "text": [
      "0.8886338304838123 0.01090123224974478\n",
      "Accuracy: 0.8853282138374068\n",
      "Specificity: 0.8917273132333284\n",
      "False Positive Rate: 0.10827268676667162\n",
      "Precision: 0.8914370811615786\n",
      "Recall: 0.8790014684287812\n",
      "F1 Score:  0.8851756007393716\n",
      "confusion matrix [[6004  729]\n",
      " [ 824 5986]]\n",
      "Decision Tree Execution Time 1.121988296508789\n"
     ]
    }
   ],
   "source": [
    "initial = time.time()\n",
    "get_stats(DecisionTreeClassifier(), x_train, x_test, Y_train, Y_test)\n",
    "final = time.time() - initial\n",
    "print(\"Decision Tree Execution Time\",final)"
   ]
  },
  {
   "cell_type": "code",
   "execution_count": 270,
   "metadata": {
    "collapsed": true
   },
   "outputs": [
    {
     "name": "stdout",
     "output_type": "stream",
     "text": [
      "0.9209306921525183 0.011229182121805056\n",
      "Accuracy: 0.9169312559994093\n",
      "Specificity: 0.8826674587850883\n",
      "False Positive Rate: 0.11733254121491163\n",
      "Precision: 0.8912594631796283\n",
      "Recall: 0.9508076358296622\n",
      "F1 Score:  0.9200710479573712\n",
      "confusion matrix [[5943  790]\n",
      " [ 335 6475]]\n",
      "Random Forest Execution Time 14.010659217834473\n"
     ]
    }
   ],
   "source": [
    "initial = time.time()\n",
    "get_stats(RandomForestClassifier(n_estimators=40),x_train, x_test, Y_train, Y_test)\n",
    "final = time.time() - initial\n",
    "print(\"Random Forest Execution Time\",final)"
   ]
  },
  {
   "cell_type": "code",
   "execution_count": 271,
   "metadata": {
    "collapsed": true
   },
   "outputs": [
    {
     "name": "stdout",
     "output_type": "stream",
     "text": [
      "0.9395160818810148 0.00843867040813772\n",
      "Accuracy: 0.936793915675995\n",
      "Specificity: 0.8728649933165008\n",
      "False Positive Rate: 0.1271350066834992\n",
      "Precision: 0.8883381163579441\n",
      "Recall: 1.0\n",
      "F1 Score:  0.9408676429953025\n",
      "confusion matrix [[5877  856]\n",
      " [   0 6810]]\n",
      "Gradient Boosting Execution Time 40.91911196708679\n"
     ]
    }
   ],
   "source": [
    "initial = time.time()\n",
    "get_stats(GradientBoostingClassifier(), x_train, x_test, Y_train, Y_test)\n",
    "final = time.time() - initial\n",
    "print(\"Gradient Boosting Execution Time\",final)"
   ]
  },
  {
   "cell_type": "markdown",
   "metadata": {},
   "source": [
    "# Cross Validation Applied for UnderSampling Data"
   ]
  },
  {
   "cell_type": "code",
   "execution_count": 212,
   "metadata": {
    "collapsed": true
   },
   "outputs": [
    {
     "name": "stdout",
     "output_type": "stream",
     "text": [
      "0.9371519296273025 0.010142319577459766\n"
     ]
    }
   ],
   "source": [
    "from sklearn.model_selection import StratifiedKFold\n",
    "\n",
    "folds = StratifiedKFold(n_splits=10)\n",
    "scores1 = cross_val_score(LogisticRegression(solver='liblinear',multi_class='ovr'), x_train, Y_train,cv=folds)\n",
    "print(scores1.mean(), scores1.std() * 2)"
   ]
  },
  {
   "cell_type": "code",
   "execution_count": 213,
   "metadata": {
    "collapsed": true
   },
   "outputs": [
    {
     "name": "stdout",
     "output_type": "stream",
     "text": [
      "0.8883430404444592 0.009436200231388962\n"
     ]
    }
   ],
   "source": [
    "scores2 = cross_val_score(DecisionTreeClassifier(),x_train, Y_train, cv=folds)\n",
    "print(scores2.mean(), scores2.std() * 2)"
   ]
  },
  {
   "cell_type": "code",
   "execution_count": 214,
   "metadata": {
    "collapsed": true
   },
   "outputs": [
    {
     "name": "stdout",
     "output_type": "stream",
     "text": [
      "0.9191489401104536 0.00988325254382904\n"
     ]
    }
   ],
   "source": [
    "scores3 = cross_val_score(RandomForestClassifier(n_estimators=40),x_train, Y_train, cv=folds)\n",
    "print(scores3.mean(), scores3.std() * 2)"
   ]
  },
  {
   "cell_type": "code",
   "execution_count": 215,
   "metadata": {
    "collapsed": true
   },
   "outputs": [
    {
     "name": "stdout",
     "output_type": "stream",
     "text": [
      "0.9373338007209233 0.01006990199633199\n"
     ]
    }
   ],
   "source": [
    "scores4 = cross_val_score(GradientBoostingClassifier(),x_train, Y_train, cv=folds)\n",
    "print(scores4.mean(), scores4.std() * 2)"
   ]
  },
  {
   "cell_type": "markdown",
   "metadata": {},
   "source": [
    "# SMOTE"
   ]
  },
  {
   "cell_type": "code",
   "execution_count": 280,
   "metadata": {
    "collapsed": true
   },
   "outputs": [
    {
     "name": "stdout",
     "output_type": "stream",
     "text": [
      "(76984, 14)\n",
      "(53965, 14)\n"
     ]
    }
   ],
   "source": [
    "from imblearn.over_sampling import SMOTE\n",
    "sm = SMOTE(random_state=27)\n",
    "\n",
    "X_smote, y_smote = sm.fit_sample(X_train, y_train)\n",
    "print(X_smote.shape)\n",
    "print(X_train.shape)"
   ]
  },
  {
   "cell_type": "code",
   "execution_count": 233,
   "metadata": {
    "collapsed": true
   },
   "outputs": [
    {
     "name": "stdout",
     "output_type": "stream",
     "text": [
      "0.9389224343124936 0.003574526441531566\n",
      "Accuracy: 0.9388614044155652\n",
      "Specificity: 0.877023615030447\n",
      "False Positive Rate: 0.12297638496955295\n",
      "Precision: 0.8915946582875098\n",
      "Recall: 1.0\n",
      "F1 Score:  0.9426910299003323\n",
      "confusion matrix [[5905  828]\n",
      " [   0 6810]]\n"
     ]
    }
   ],
   "source": [
    "get_stats(LogisticRegression(solver='liblinear',multi_class='ovr'), X_smote, x_test, y_smote, Y_test)\n"
   ]
  },
  {
   "cell_type": "code",
   "execution_count": 245,
   "metadata": {
    "collapsed": true
   },
   "outputs": [
    {
     "name": "stdout",
     "output_type": "stream",
     "text": [
      "No Skill: ROC AUC=0.500\n",
      "Logistic For SMOTE: ROC AUC=0.946\n",
      "Decision Tree for under: ROC AUC=0.967\n",
      "Random Forest For SMOTE: ROC AUC=0.984\n",
      "Gradient Boost for under: ROC AUC=0.957\n"
     ]
    },
    {
     "data": {
      "image/png": "[encoded data removed]",
      "text/plain": [
       "<Figure size 576x396 with 1 Axes>"
      ]
     },
     "metadata": {},
     "output_type": "display_data"
    }
   ],
   "source": [
    "from matplotlib import pyplot\n",
    "\n",
    "ns_probs = [0 for _ in range(len(Y_test))]\n",
    "\n",
    "model_log = LogisticRegression(solver='lbfgs')\n",
    "model_log.fit(X_smote, y_smote)\n",
    "\n",
    "model_DT = DecisionTreeClassifier()\n",
    "model_DT.fit(X_smote, y_smote)\n",
    "\n",
    "model_RF = RandomForestClassifier(n_estimators=40)\n",
    "model_RF.fit(X_smote, y_smote)\n",
    "\n",
    "model_GB = GradientBoostingClassifier()\n",
    "model_GB.fit(X_smote, y_smote)\n",
    "\n",
    "log_probs = model_log.predict_proba(x_test)\n",
    "DT_probs = model_DT.predict_proba(x_test)\n",
    "RF_probs = model_RF.predict_proba(x_test)\n",
    "GB_probs = model_GB.predict_proba(x_test)\n",
    "\n",
    "log_probs = log_probs[:, 1]\n",
    "DT_probs = DT_probs[:, 1]\n",
    "RF_probs = RF_probs[:, 1]\n",
    "GB_probs = GB_probs[:, 1]\n",
    "\n",
    "# calculate scores\n",
    "ns_auc = roc_auc_score(Y_test, ns_probs)\n",
    "log_auc = roc_auc_score(Y_test, log_probs)\n",
    "DT_auc = roc_auc_score(Y_test, DT_probs)\n",
    "RF_auc = roc_auc_score(Y_test, RF_probs)\n",
    "GB_auc = roc_auc_score(Y_test, GB_probs)\n",
    "\n",
    "# summarize scores\n",
    "print('No Skill: ROC AUC=%.3f' % (ns_auc))\n",
    "print('Logistic For SMOTE: ROC AUC=%.3f' % (log_auc))\n",
    "print('Decision Tree for under: ROC AUC=%.3f' % (DT_auc))\n",
    "print('Random Forest For SMOTE: ROC AUC=%.3f' % (RF_auc))\n",
    "print('Gradient Boost for under: ROC AUC=%.3f' % (GB_auc))\n",
    "\n",
    "# calculate roc curves\n",
    "ns_fpr, ns_tpr, _ = roc_curve(Y_test, ns_probs)\n",
    "log_fpr, log_tpr, _ = roc_curve(Y_test, log_probs)\n",
    "DT_fpr, DT_tpr, _ = roc_curve(Y_test, DT_probs)\n",
    "RF_fpr, RF_tpr, _ = roc_curve(Y_test, RF_probs)\n",
    "GB_fpr, GB_tpr, _ = roc_curve(Y_test, GB_probs)\n",
    "\n",
    "\n",
    "# plot the roc curve for the model\n",
    "pyplot.plot(ns_fpr, ns_tpr, linestyle='--', label='No Skill =%.3f' % (ns_auc))\n",
    "pyplot.plot(log_fpr, log_tpr, marker='.', label='LogisticRegression =%.3f' % (log_auc))\n",
    "pyplot.plot(DT_fpr, DT_tpr, marker='.', label='DecisionTree =%.3f' % (DT_auc))\n",
    "pyplot.plot(RF_fpr, RF_tpr, marker='.', label='Random Forest = %.3f' % (RF_auc))\n",
    "pyplot.plot(GB_fpr, GB_tpr, marker='.', label='Gradient Boost=%.3f' % (GB_auc))\n",
    "\n",
    "# axis labels\n",
    "pyplot.xlabel('False Positive Rate')\n",
    "pyplot.ylabel('True Positive Rate')\n",
    "# show the legend\n",
    "pyplot.legend()\n",
    "# show the plot\n",
    "pyplot.show()"
   ]
  },
  {
   "cell_type": "code",
   "execution_count": 260,
   "metadata": {
    "collapsed": true
   },
   "outputs": [
    {
     "name": "stdout",
     "output_type": "stream",
     "text": [
      "No Skill: ROC AUC=0.500\n",
      "UNDER-SAMPLING: ROC AUC=0.946\n",
      "SMOTE: ROC AUC=0.946\n"
     ]
    },
    {
     "data": {
      "image/png": "[encoded data removed]",
      "text/plain": [
       "<Figure size 576x396 with 1 Axes>"
      ]
     },
     "metadata": {},
     "output_type": "display_data"
    }
   ],
   "source": [
    "from matplotlib import pyplot\n",
    "\n",
    "ns_probs = [0 for _ in range(len(Y_test))]\n",
    "# keep probabilities for the positive outcome only\n",
    "# lr_probs = lr_probs[:, 1]\n",
    "\n",
    "model_under_LR = LogisticRegression(solver='lbfgs')\n",
    "model_under_LR.fit(x_under, y_under)\n",
    "\n",
    "model_SMOTE_LR = LogisticRegression(solver='lbfgs')\n",
    "model_SMOTE_LR.fit(X_smote, y_smote)\n",
    "\n",
    "\n",
    "\n",
    "under_probs = model_under_LR.predict_proba(x_test)\n",
    "SMOTE_probs = model_SMOTE_LR.predict_proba(x_test)\n",
    "\n",
    "under_probs = under_probs[:, 1]\n",
    "SMOTE_probs = SMOTE_probs[:, 1]\n",
    "\n",
    "\n",
    "# calculate scores\n",
    "ns_auc = roc_auc_score(Y_test, ns_probs)\n",
    "under_auc = roc_auc_score(Y_test, under_probs)\n",
    "SMOTE_auc = roc_auc_score(Y_test, SMOTE_probs)\n",
    "\n",
    "\n",
    "# summarize scores\n",
    "print('No Skill: ROC AUC=%.3f' % (ns_auc))\n",
    "print('UNDER-SAMPLING: ROC AUC=%.3f' % (under_auc))\n",
    "print('SMOTE: ROC AUC=%.3f' % (SMOTE_auc))\n",
    "\n",
    "# calculate roc curves\n",
    "ns_fpr, ns_tpr, _ = roc_curve(Y_test, ns_probs)\n",
    "under_fpr, under_tpr, _ = roc_curve(Y_test, under_probs)\n",
    "SMOTE_fpr, SMOTE_tpr, _ = roc_curve(Y_test, SMOTE_probs)\n",
    "\n",
    "\n",
    "\n",
    "# plot the roc curve for the model\n",
    "pyplot.plot(ns_fpr, ns_tpr, linestyle='--', label='No Skill =%.3f' % (ns_auc))\n",
    "pyplot.plot(under_fpr, under_tpr, marker='.', label='Under Sampling =%.3f' % (under_auc))\n",
    "pyplot.plot(SMOTE_fpr, SMOTE_tpr, marker='.', label='SMOTE =%.3f' % (SMOTE_auc))\n",
    "pyplot.title(\"Logistic Regression\")\n",
    "# axis labels\n",
    "pyplot.xlabel('False Positive Rate')\n",
    "pyplot.ylabel('True Positive Rate')\n",
    "# show the legend\n",
    "pyplot.legend()\n",
    "# show the plot\n",
    "pyplot.show()"
   ]
  },
  {
   "cell_type": "code",
   "execution_count": 265,
   "metadata": {
    "collapsed": true
   },
   "outputs": [
    {
     "name": "stdout",
     "output_type": "stream",
     "text": [
      "No Skill: ROC AUC=0.500\n",
      "UNDER-SAMPLING: ROC AUC=0.997\n",
      "SMOTE: ROC AUC=0.967\n"
     ]
    },
    {
     "data": {
      "image/png": "[encoded data removed]",
      "text/plain": [
       "<Figure size 576x396 with 1 Axes>"
      ]
     },
     "metadata": {},
     "output_type": "display_data"
    }
   ],
   "source": [
    "from matplotlib import pyplot\n",
    "\n",
    "ns_probs = [0 for _ in range(len(Y_test))]\n",
    "# keep probabilities for the positive outcome only\n",
    "# lr_probs = lr_probs[:, 1]\n",
    "\n",
    "model_under_DT = DecisionTreeClassifier()\n",
    "model_under_DT.fit(x_under, y_under)\n",
    "\n",
    "model_SMOTE_DT = DecisionTreeClassifier()\n",
    "model_SMOTE_DT.fit(X_smote, y_smote)\n",
    "\n",
    "\n",
    "\n",
    "under_probs = model_under_DT.predict_proba(x_test)\n",
    "SMOTE_probs = model_SMOTE_DT.predict_proba(x_test)\n",
    "\n",
    "under_probs = under_probs[:, 1]\n",
    "SMOTE_probs = SMOTE_probs[:, 1]\n",
    "\n",
    "\n",
    "# calculate scores\n",
    "ns_auc = roc_auc_score(Y_test, ns_probs)\n",
    "under_auc = roc_auc_score(Y_test, under_probs)\n",
    "SMOTE_auc = roc_auc_score(Y_test, SMOTE_probs)\n",
    "\n",
    "\n",
    "# summarize scores\n",
    "print('No Skill: ROC AUC=%.3f' % (ns_auc))\n",
    "print('UNDER-SAMPLING: ROC AUC=%.3f' % (under_auc))\n",
    "print('SMOTE: ROC AUC=%.3f' % (SMOTE_auc))\n",
    "\n",
    "# calculate roc curves\n",
    "ns_fpr, ns_tpr, _ = roc_curve(Y_test, ns_probs)\n",
    "under_fpr, under_tpr, _ = roc_curve(Y_test, under_probs)\n",
    "SMOTE_fpr, SMOTE_tpr, _ = roc_curve(Y_test, SMOTE_probs)\n",
    "\n",
    "\n",
    "\n",
    "# plot the roc curve for the model\n",
    "pyplot.plot(ns_fpr, ns_tpr, linestyle='--', label='No Skill =%.3f' % (ns_auc))\n",
    "pyplot.plot(under_fpr, under_tpr, marker='.', label='Under Sampling =%.3f' % (under_auc))\n",
    "pyplot.plot(SMOTE_fpr, SMOTE_tpr, marker='.', label='SMOTE =%.3f' % (SMOTE_auc))\n",
    "\n",
    "pyplot.title(\"Decision Tree Classifier\")\n",
    "# axis labels\n",
    "pyplot.xlabel('False Positive Rate')\n",
    "pyplot.ylabel('True Positive Rate')\n",
    "# show the legend\n",
    "pyplot.legend()\n",
    "# show the plot\n",
    "pyplot.show()"
   ]
  },
  {
   "cell_type": "code",
   "execution_count": 263,
   "metadata": {
    "collapsed": true
   },
   "outputs": [
    {
     "name": "stdout",
     "output_type": "stream",
     "text": [
      "No Skill: ROC AUC=0.500\n",
      "UNDER-SAMPLING: ROC AUC=0.997\n",
      "SMOTE: ROC AUC=0.985\n"
     ]
    },
    {
     "data": {
      "image/png": "[encoded data removed]",
      "text/plain": [
       "<Figure size 576x396 with 1 Axes>"
      ]
     },
     "metadata": {},
     "output_type": "display_data"
    }
   ],
   "source": [
    "from matplotlib import pyplot\n",
    "\n",
    "ns_probs = [0 for _ in range(len(Y_test))]\n",
    "# keep probabilities for the positive outcome only\n",
    "# lr_probs = lr_probs[:, 1]\n",
    "\n",
    "model_under_RF = RandomForestClassifier(n_estimators=40)\n",
    "model_under_RF.fit(x_under, y_under)\n",
    "\n",
    "model_SMOTE_RF = RandomForestClassifier(n_estimators=40)\n",
    "model_SMOTE_RF.fit(X_smote, y_smote)\n",
    "\n",
    "\n",
    "\n",
    "under_probs = model_under_RF.predict_proba(x_test)\n",
    "SMOTE_probs = model_SMOTE_RF.predict_proba(x_test)\n",
    "\n",
    "under_probs = under_probs[:, 1]\n",
    "SMOTE_probs = SMOTE_probs[:, 1]\n",
    "\n",
    "\n",
    "# calculate scores\n",
    "ns_auc = roc_auc_score(Y_test, ns_probs)\n",
    "under_auc = roc_auc_score(Y_test, under_probs)\n",
    "SMOTE_auc = roc_auc_score(Y_test, SMOTE_probs)\n",
    "\n",
    "\n",
    "# summarize scores\n",
    "print('No Skill: ROC AUC=%.3f' % (ns_auc))\n",
    "print('UNDER-SAMPLING: ROC AUC=%.3f' % (under_auc))\n",
    "print('SMOTE: ROC AUC=%.3f' % (SMOTE_auc))\n",
    "\n",
    "# calculate roc curves\n",
    "ns_fpr, ns_tpr, _ = roc_curve(Y_test, ns_probs)\n",
    "under_fpr, under_tpr, _ = roc_curve(Y_test, under_probs)\n",
    "SMOTE_fpr, SMOTE_tpr, _ = roc_curve(Y_test, SMOTE_probs)\n",
    "\n",
    "\n",
    "\n",
    "# plot the roc curve for the model\n",
    "pyplot.plot(ns_fpr, ns_tpr, linestyle='--', label='No Skill =%.3f' % (ns_auc))\n",
    "pyplot.plot(under_fpr, under_tpr, marker='.', label='Under Sampling =%.3f' % (under_auc))\n",
    "pyplot.plot(SMOTE_fpr, SMOTE_tpr, marker='.', label='SMOTE =%.3f' % (SMOTE_auc))\n",
    "\n",
    "pyplot.title(\"Random Forest Classifier\")\n",
    "# axis labels\n",
    "pyplot.xlabel('False Positive Rate')\n",
    "pyplot.ylabel('True Positive Rate')\n",
    "# show the legend\n",
    "pyplot.legend()\n",
    "# show the plot\n",
    "pyplot.show()"
   ]
  },
  {
   "cell_type": "code",
   "execution_count": 264,
   "metadata": {
    "scrolled": true
   },
   "outputs": [
    {
     "name": "stdout",
     "output_type": "stream",
     "text": [
      "No Skill: ROC AUC=0.500\n",
      "UNDER-SAMPLING: ROC AUC=0.959\n",
      "SMOTE: ROC AUC=0.957\n"
     ]
    },
    {
     "data": {
      "image/png": "[encoded data removed]",
      "text/plain": [
       "<Figure size 576x396 with 1 Axes>"
      ]
     },
     "metadata": {},
     "output_type": "display_data"
    }
   ],
   "source": [
    "from matplotlib import pyplot\n",
    "\n",
    "ns_probs = [0 for _ in range(len(Y_test))]\n",
    "# keep probabilities for the positive outcome only\n",
    "# lr_probs = lr_probs[:, 1]\n",
    "\n",
    "model_under_GB = GradientBoostingClassifier()\n",
    "model_under_GB.fit(x_under, y_under)\n",
    "\n",
    "model_SMOTE_GB = GradientBoostingClassifier()\n",
    "model_SMOTE_GB.fit(X_smote, y_smote)\n",
    "\n",
    "\n",
    "\n",
    "under_probs = model_under_GB.predict_proba(x_test)\n",
    "SMOTE_probs = model_SMOTE_GB.predict_proba(x_test)\n",
    "\n",
    "under_probs = under_probs[:, 1]\n",
    "SMOTE_probs = SMOTE_probs[:, 1]\n",
    "\n",
    "\n",
    "# calculate scores\n",
    "ns_auc = roc_auc_score(Y_test, ns_probs)\n",
    "under_auc = roc_auc_score(Y_test, under_probs)\n",
    "SMOTE_auc = roc_auc_score(Y_test, SMOTE_probs)\n",
    "\n",
    "\n",
    "# summarize scores\n",
    "print('No Skill: ROC AUC=%.3f' % (ns_auc))\n",
    "print('UNDER-SAMPLING: ROC AUC=%.3f' % (under_auc))\n",
    "print('SMOTE: ROC AUC=%.3f' % (SMOTE_auc))\n",
    "\n",
    "# calculate roc curves\n",
    "ns_fpr, ns_tpr, _ = roc_curve(Y_test, ns_probs)\n",
    "under_fpr, under_tpr, _ = roc_curve(Y_test, under_probs)\n",
    "SMOTE_fpr, SMOTE_tpr, _ = roc_curve(Y_test, SMOTE_probs)\n",
    "\n",
    "\n",
    "\n",
    "# plot the roc curve for the model\n",
    "pyplot.plot(ns_fpr, ns_tpr, linestyle='--', label='No Skill =%.3f' % (ns_auc))\n",
    "pyplot.plot(under_fpr, under_tpr, marker='.', label='Under Sampling =%.3f' % (under_auc))\n",
    "pyplot.plot(SMOTE_fpr, SMOTE_tpr, marker='.', label='SMOTE =%.3f' % (SMOTE_auc))\n",
    "\n",
    "pyplot.title(\"Gradient Boosting Classifier\")\n",
    "# axis labels\n",
    "pyplot.xlabel('False Positive Rate')\n",
    "pyplot.ylabel('True Positive Rate')\n",
    "# show the legend\n",
    "pyplot.legend()\n",
    "# show the plot\n",
    "pyplot.show()"
   ]
  },
  {
   "cell_type": "code",
   "execution_count": 273,
   "metadata": {},
   "outputs": [
    {
     "name": "stdout",
     "output_type": "stream",
     "text": [
      "0.9389224343124936 0.003574526441531566\n",
      "Accuracy: 0.936793915675995\n",
      "Specificity: 0.8728649933165008\n",
      "False Positive Rate: 0.1271350066834992\n",
      "Precision: 0.8883381163579441\n",
      "Recall: 1.0\n",
      "F1 Score:  0.9408676429953025\n",
      "confusion matrix [[5877  856]\n",
      " [   0 6810]]\n",
      "Logistic Regression Execution Time 40.91911196708679\n"
     ]
    }
   ],
   "source": [
    "initial = time.time()\n",
    "get_stats(LogisticRegression(solver='lbfgs'), X_smote, x_test, y_smote, Y_test)\n",
    "print(\"Logistic Regression Execution Time\",final)"
   ]
  },
  {
   "cell_type": "code",
   "execution_count": 274,
   "metadata": {
    "scrolled": true
   },
   "outputs": [
    {
     "name": "stdout",
     "output_type": "stream",
     "text": [
      "0.9108541374408266 0.07990280822539479\n",
      "Accuracy: 0.9291885106697186\n",
      "Specificity: 0.9566315164117035\n",
      "False Positive Rate: 0.04336848358829645\n",
      "Precision: 0.9546231546231546\n",
      "Recall: 0.9020558002936857\n",
      "F1 Score:  0.9275953189882975\n",
      "confusion matrix [[6441  292]\n",
      " [ 667 6143]]\n",
      "Decision Tree Execution Time 4.083683967590332\n"
     ]
    }
   ],
   "source": [
    "initial = time.time()\n",
    "get_stats(DecisionTreeClassifier(), X_smote, x_test, y_smote, Y_test)\n",
    "final = time.time() - initial\n",
    "print(\"Decision Tree Execution Time\",final)"
   ]
  },
  {
   "cell_type": "code",
   "execution_count": 275,
   "metadata": {},
   "outputs": [
    {
     "name": "stdout",
     "output_type": "stream",
     "text": [
      "0.9297529589111981 0.04188926531057542\n",
      "Accuracy: 0.9482389426271874\n",
      "Specificity: 0.9426704292291698\n",
      "False Positive Rate: 0.057329570770830236\n",
      "Precision: 0.9439035023979073\n",
      "Recall: 0.9537444933920705\n",
      "F1 Score:  0.9487984807537799\n",
      "confusion matrix [[6347  386]\n",
      " [ 315 6495]]\n",
      "Random Forest Execution Time 45.52984023094177\n"
     ]
    }
   ],
   "source": [
    "initial = time.time()\n",
    "get_stats(RandomForestClassifier(n_estimators=40), X_smote, x_test, y_smote, Y_test)\n",
    "final = time.time() - initial\n",
    "print(\"Random Forest Execution Time\",final)"
   ]
  },
  {
   "cell_type": "code",
   "execution_count": 276,
   "metadata": {},
   "outputs": [
    {
     "name": "stdout",
     "output_type": "stream",
     "text": [
      "0.9389094472999447 0.0036384320858164577\n",
      "Accuracy: 0.936793915675995\n",
      "Specificity: 0.8728649933165008\n",
      "False Positive Rate: 0.1271350066834992\n",
      "Precision: 0.8883381163579441\n",
      "Recall: 1.0\n",
      "F1 Score:  0.9408676429953025\n",
      "confusion matrix [[5877  856]\n",
      " [   0 6810]]\n",
      "Gradient Boosting Execution Time 147.71764707565308\n"
     ]
    }
   ],
   "source": [
    "initial = time.time()\n",
    "get_stats(GradientBoostingClassifier(), X_smote, x_test, y_smote, Y_test)\n",
    "final = time.time() - initial\n",
    "print(\"Gradient Boosting Execution Time\",final)"
   ]
  },
  {
   "cell_type": "markdown",
   "metadata": {},
   "source": [
    "# Cross Validation Applied For SMOTE Data"
   ]
  },
  {
   "cell_type": "code",
   "execution_count": 221,
   "metadata": {},
   "outputs": [
    {
     "name": "stdout",
     "output_type": "stream",
     "text": [
      "0.9389224343124936 0.003574526441531566\n"
     ]
    }
   ],
   "source": [
    "smote1 = cross_val_score(LogisticRegression(solver='liblinear',multi_class='ovr'), X_smote, y_smote,cv=folds)\n",
    "cross_val_score(LogisticRegression(solver='liblinear',multi_class='ovr'),X_smote, y_smote, cv=folds)\n",
    "\n",
    "print(smote1.mean(), smote1.std() * 2)"
   ]
  },
  {
   "cell_type": "code",
   "execution_count": 222,
   "metadata": {},
   "outputs": [
    {
     "name": "stdout",
     "output_type": "stream",
     "text": [
      "0.9106722939559082 0.08030663006332886\n"
     ]
    }
   ],
   "source": [
    "smote2 = cross_val_score(DecisionTreeClassifier(),X_smote, y_smote, cv=folds)\n",
    "print(smote2.mean(), smote2.std() * 2)"
   ]
  },
  {
   "cell_type": "code",
   "execution_count": 223,
   "metadata": {},
   "outputs": [
    {
     "name": "stdout",
     "output_type": "stream",
     "text": [
      "0.9302984843041061 0.040477422018097016\n"
     ]
    }
   ],
   "source": [
    "smote3 = cross_val_score(RandomForestClassifier(n_estimators=40),X_smote, y_smote, cv=folds)\n",
    "print(smote3.mean(), smote3.std() * 2)"
   ]
  },
  {
   "cell_type": "code",
   "execution_count": 224,
   "metadata": {},
   "outputs": [
    {
     "name": "stdout",
     "output_type": "stream",
     "text": [
      "0.9389094472999447 0.0036384320858164577\n"
     ]
    }
   ],
   "source": [
    "smote4 = cross_val_score(GradientBoostingClassifier(),X_smote, y_smote, cv=10)\n",
    "print(smote4.mean(), smote4.std() * 2)"
   ]
  },
  {
   "cell_type": "code",
   "execution_count": 225,
   "metadata": {
    "scrolled": false
   },
   "outputs": [
    {
     "name": "stdout",
     "output_type": "stream",
     "text": [
      "              precision    recall  f1-score   support\n",
      "\n",
      "           0       1.00      0.87      0.93     12943\n",
      "           1       0.76      1.00      0.86      5046\n",
      "\n",
      "    accuracy                           0.91     17989\n",
      "   macro avg       0.88      0.94      0.90     17989\n",
      "weighted avg       0.93      0.91      0.91     17989\n",
      "\n"
     ]
    }
   ],
   "source": [
    "from sklearn.metrics import roc_curve, classification_report, confusion_matrix\n",
    "logreg = GradientBoostingClassifier()\n",
    "logreg = logreg.fit(X_smote, y_smote)\n",
    "y_pred = logreg.predict(X_test)\n",
    "print(classification_report(y_test,y_pred))"
   ]
  },
  {
   "cell_type": "markdown",
   "metadata": {},
   "source": [
    "# Feature Selection Techinique"
   ]
  },
  {
   "cell_type": "code",
   "execution_count": 226,
   "metadata": {},
   "outputs": [
    {
     "name": "stdout",
     "output_type": "stream",
     "text": [
      "Optimal number of features : 1\n",
      "Best features : Index(['Total_No_show'], dtype='object')\n"
     ]
    }
   ],
   "source": [
    "from sklearn.feature_selection import RFECV\n",
    "\n",
    "feature_select = RFECV(estimator=GradientBoostingClassifier(), step=1 ,scoring='accuracy')   \n",
    "feature_select = feature_select.fit(X_smote, y_smote)\n",
    "\n",
    "print('Optimal number of features :', feature_select.n_features_)\n",
    "print('Best features :', X_dummies.columns[feature_select.support_])\n",
    "\n",
    "x_train_features = feature_select.transform(X_smote)\n",
    "x_test_features = feature_select.transform(X_test)\n",
    "\n"
   ]
  },
  {
   "cell_type": "code",
   "execution_count": 227,
   "metadata": {},
   "outputs": [
    {
     "name": "stdout",
     "output_type": "stream",
     "text": [
      "0.9389354246996071 0.0035775939066094485\n",
      "Accuracy: 0.9100561454222025\n",
      "Specificity: 0.8749903422699529\n",
      "False Positive Rate: 0.12500965773004713\n",
      "Precision: 0.757202881152461\n",
      "Recall: 1.0\n",
      "F1 Score:  0.8618274978650726\n",
      "confusion matrix [[11325  1618]\n",
      " [    0  5046]]\n"
     ]
    }
   ],
   "source": [
    "get_stats(LogisticRegression(solver='liblinear',multi_class='ovr'), x_train_features, x_test_features, y_smote, y_test)"
   ]
  },
  {
   "cell_type": "code",
   "execution_count": 228,
   "metadata": {},
   "outputs": [
    {
     "name": "stdout",
     "output_type": "stream",
     "text": [
      "0.9388964586001137 0.0036497538889384068\n",
      "Accuracy: 0.9100561454222025\n",
      "Specificity: 0.8749903422699529\n",
      "False Positive Rate: 0.12500965773004713\n",
      "Precision: 0.757202881152461\n",
      "Recall: 1.0\n",
      "F1 Score:  0.8618274978650726\n",
      "confusion matrix [[11325  1618]\n",
      " [    0  5046]]\n"
     ]
    }
   ],
   "source": [
    "get_stats(DecisionTreeClassifier(), x_train_features, x_test_features, y_smote, y_test)"
   ]
  },
  {
   "cell_type": "code",
   "execution_count": 229,
   "metadata": {},
   "outputs": [
    {
     "name": "stdout",
     "output_type": "stream",
     "text": [
      "0.9389094472999447 0.0035917649417092443\n",
      "Accuracy: 0.9100561454222025\n",
      "Specificity: 0.8749903422699529\n",
      "False Positive Rate: 0.12500965773004713\n",
      "Precision: 0.757202881152461\n",
      "Recall: 1.0\n",
      "F1 Score:  0.8618274978650726\n",
      "confusion matrix [[11325  1618]\n",
      " [    0  5046]]\n"
     ]
    }
   ],
   "source": [
    "get_stats(RandomForestClassifier(n_estimators=40), x_train_features, x_test_features, y_smote, y_test)"
   ]
  },
  {
   "cell_type": "code",
   "execution_count": 230,
   "metadata": {},
   "outputs": [
    {
     "name": "stdout",
     "output_type": "stream",
     "text": [
      "0.9389094472999447 0.0035917649417092443\n",
      "Accuracy: 0.9100561454222025\n",
      "Specificity: 0.8749903422699529\n",
      "False Positive Rate: 0.12500965773004713\n",
      "Precision: 0.757202881152461\n",
      "Recall: 1.0\n",
      "F1 Score:  0.8618274978650726\n",
      "confusion matrix [[11325  1618]\n",
      " [    0  5046]]\n"
     ]
    }
   ],
   "source": [
    "get_stats(GradientBoostingClassifier(), x_train_features, x_test_features, y_smote, y_test)"
   ]
  },
  {
   "cell_type": "markdown",
   "metadata": {},
   "source": [
    "# Feature Importance Techinque"
   ]
  },
  {
   "cell_type": "code",
   "execution_count": 231,
   "metadata": {
    "scrolled": true
   },
   "outputs": [
    {
     "name": "stderr",
     "output_type": "stream",
     "text": [
      "C:\\Users\\kunap\\anaconda3\\lib\\site-packages\\sklearn\\base.py:213: FutureWarning: From version 0.24, get_params will raise an AttributeError if a parameter cannot be retrieved as an instance attribute. Previously it would return None.\n",
      "  FutureWarning)\n"
     ]
    },
    {
     "data": {
      "image/png": "[encoded data removed]",
      "text/plain": [
       "<Figure size 576x396 with 1 Axes>"
      ]
     },
     "metadata": {},
     "output_type": "display_data"
    },
    {
     "data": {
      "text/plain": [
       "<matplotlib.axes._subplots.AxesSubplot at 0x1c9372d4b48>"
      ]
     },
     "execution_count": 231,
     "metadata": {},
     "output_type": "execute_result"
    }
   ],
   "source": [
    "from sklearn.ensemble import RandomForestClassifier\n",
    "\n",
    "from yellowbrick.model_selection import FeatureImportances\n",
    "\n",
    "# Load the classification data set\n",
    "X, y = X_dummies,y\n",
    "\n",
    "model = RandomForestClassifier(n_estimators=10)\n",
    "viz = FeatureImportances(model)\n",
    "viz.fit(X, y)\n",
    "viz.show()"
   ]
  }
 ],
 "metadata": {
  "kernelspec": {
   "display_name": "Python 3",
   "language": "python",
   "name": "python3"
  },
  "language_info": {
   "codemirror_mode": {
    "name": "ipython",
    "version": 3
   },
   "file_extension": ".py",
   "mimetype": "text/x-python",
   "name": "python",
   "nbconvert_exporter": "python",
   "pygments_lexer": "ipython3",
   "version": "3.7.6"
  }
 },
 "nbformat": 4,
 "nbformat_minor": 4
}
